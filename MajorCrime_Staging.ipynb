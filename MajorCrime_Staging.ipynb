{
  "nbformat": 4,
  "nbformat_minor": 0,
  "metadata": {
    "colab": {
      "provenance": []
    },
    "kernelspec": {
      "name": "python3",
      "display_name": "Python 3"
    },
    "language_info": {
      "name": "python"
    }
  },
  "cells": [
    {
      "cell_type": "code",
      "source": [
        "import pandas as pd"
      ],
      "metadata": {
        "id": "qqXTpkd0HG2o"
      },
      "execution_count": null,
      "outputs": []
    },
    {
      "cell_type": "markdown",
      "source": [
        "# Loading Datasets"
      ],
      "metadata": {
        "id": "MuMm2W9jmEiw"
      }
    },
    {
      "cell_type": "code",
      "source": [
        "#Loads files from github\n",
        "covid_url ='https://raw.githubusercontent.com/zhrmnch/CSI4142_Phase3/main/COVID19_cases.csv'\n",
        "MCI_url ='https://raw.githubusercontent.com/zhrmnch/CSI4142_Phase3/main/Major_Crime_Indicators.csv'\n",
        "neighbourhood_crime_rate_url ='https://raw.githubusercontent.com/zhrmnch/CSI4142_Phase3/main/Neighbourhood_Crime_Rates.csv'"
      ],
      "metadata": {
        "id": "JNEPDrwR1iN5"
      },
      "execution_count": null,
      "outputs": []
    },
    {
      "cell_type": "markdown",
      "source": [
        "# Prepare Crime fact table"
      ],
      "metadata": {
        "id": "1vfNgS3FmKRp"
      }
    },
    {
      "cell_type": "code",
      "execution_count": null,
      "metadata": {
        "id": "XKsGzvdEJtEG"
      },
      "outputs": [],
      "source": [
        "# MC Dataset\n",
        "crimedf = pd.read_csv(MCI_url)\n",
        "crimedf = crimedf.drop_duplicates()\n",
        "crimedf['occurrencedate'] = pd.to_datetime(crimedf['occurrencedate'])\n",
        "crimedf['reporteddate'] = pd.to_datetime(crimedf['reporteddate'])\n",
        "crimedf = crimedf.drop(columns=[\"event_unique_id\",\"Index_\",\"X\",\"Y\",\"ObjectId\",\"Hood_ID\",\"reportedyear\",\"reportedmonth\", \"reportedday\", \"reporteddayofyear\", \"reporteddayofweek\", \"reportedhour\",\"occurrenceyear\", \"occurrencemonth\", \"occurrenceday\", \"occurrencedayofyear\", \"occurrencedayofweek\", \"occurrencehour\"])\n",
        "\n",
        "# Manual changes to the neighbourhood column to account for typos\n",
        "crimedf['Neighbourhood'] = crimedf['Neighbourhood'].replace('LAmoreaux', \"L'Amoreaux\")\n",
        "crimedf['Neighbourhood'] = crimedf['Neighbourhood'].replace('OConnor-Parkview', \"O'Connor-Parkview\")\n",
        "crimedf['Neighbourhood'] = crimedf['Neighbourhood'].replace('Mimico', \"Mimico (includes Humber Bay Shores)\")\n",
        "crimedf['Neighbourhood'] = crimedf['Neighbourhood'].replace('Tam OShanter-Sullivan', \"Tam O'Shanter-Sullivan\")\n",
        "\n",
        "# Remove crimes with no location\n",
        "crimedf = crimedf[(crimedf[\"Neighbourhood\"] != \"NSA\") & (crimedf[\"Latitude\"] != 0) & (crimedf[\"Longitude\"] != 0)]\n",
        "crimedf = crimedf.drop_duplicates()\n",
        "\n",
        "#crimedf.describe(include = ['object','int'])\n"
      ]
    },
    {
      "cell_type": "markdown",
      "source": [
        "# Prepare COVID Dataset"
      ],
      "metadata": {
        "id": "K3Dheu_DmS_y"
      }
    },
    {
      "cell_type": "code",
      "source": [
        "# COVID Dataset\n",
        "covdf = pd.read_csv(covid_url)\n",
        "covdf['Reported Date'] = pd.to_datetime(covdf['Reported Date'])\n",
        "covdf['Episode Date'] = pd.to_datetime(covdf['Episode Date'])"
      ],
      "metadata": {
        "id": "g1wqAGCYHR5i"
      },
      "execution_count": null,
      "outputs": []
    },
    {
      "cell_type": "code",
      "source": [
        "covdf.drop_duplicates()"
      ],
      "metadata": {
        "id": "vLNSP8wZ6xYx"
      },
      "execution_count": null,
      "outputs": []
    },
    {
      "cell_type": "markdown",
      "source": [
        "# Prepare Neighbourhood Table"
      ],
      "metadata": {
        "id": "whQcyWNgmW20"
      }
    },
    {
      "cell_type": "code",
      "source": [
        "# Neighbourhood Table - DONE\n",
        "neighbourhooddf = pd.DataFrame()\n",
        "neighbourhooddf = pd.read_csv(neighbourhood_crime_rate_url)\n",
        "neighbourhooddf = neighbourhooddf.loc[:, ['Neighbourhood','Shape__Area','Shape__Length']]\n",
        "neighbourhooddf = neighbourhooddf.drop_duplicates() # remove dups\n",
        "neighbourhooddf['neighbourhood_PK'] = range(1, len(neighbourhooddf) + 1) # generate surr key\n",
        "neighbourhooddf = neighbourhooddf[['neighbourhood_PK'] + [col for col in neighbourhooddf.columns if col != 'neighbourhood_PK']]\n",
        "\n",
        "# Manual changes to the neighbourhood column\n",
        "neighbourhooddf['Neighbourhood'] = neighbourhooddf['Neighbourhood'].replace('Mimico (includes Humber Bay Shores) ', 'Mimico (includes Humber Bay Shores)')"
      ],
      "metadata": {
        "id": "QjnA-HTCuFCU"
      },
      "execution_count": null,
      "outputs": []
    },
    {
      "cell_type": "markdown",
      "source": [
        "# Prepare Location Table"
      ],
      "metadata": {
        "id": "k6fFDnw4mbn9"
      }
    },
    {
      "cell_type": "code",
      "source": [
        "# Location Table - DONE\n",
        "locationdf = pd.DataFrame()\n",
        "locationdf = crimedf[['Division', 'Longitude', 'Latitude']].copy()\n",
        "locationdf = locationdf.drop_duplicates() # remove dups\n",
        "locationdf['location_PK'] = range(1, len(locationdf) + 1) # generate surr key\n",
        "locationdf = locationdf[['location_PK'] + [col for col in locationdf.columns if col != 'location_PK']]"
      ],
      "metadata": {
        "id": "bjsbkn8Af2K_"
      },
      "execution_count": null,
      "outputs": []
    },
    {
      "cell_type": "markdown",
      "source": [
        "# Prepare Premise Table"
      ],
      "metadata": {
        "id": "bp-hKgaUmd-x"
      }
    },
    {
      "cell_type": "code",
      "source": [
        "# Premise Table - DONE\n",
        "premisedf = pd.DataFrame()\n",
        "premisedf = crimedf[['location_type','premises_type']].copy()\n",
        "premisedf = premisedf.drop_duplicates() # remove dups\n",
        "premisedf['premise_PK'] = range(1, len(premisedf) + 1) # generate surr key\n",
        "premisedf = premisedf[['premise_PK'] + [col for col in premisedf.columns if col != 'premise_PK']]"
      ],
      "metadata": {
        "id": "8dc4JJ1_adqb"
      },
      "execution_count": null,
      "outputs": []
    },
    {
      "cell_type": "markdown",
      "source": [
        "# Prepare Incident Table"
      ],
      "metadata": {
        "id": "GWwA1_sOmi-m"
      }
    },
    {
      "cell_type": "code",
      "source": [
        "# Incident Table - DONE\n",
        "incidentdf = pd.DataFrame()\n",
        "incidentdf = crimedf[['mci_category','offence','ucr_code', 'ucr_ext']].copy()\n",
        "incidentdf = incidentdf.drop_duplicates() # remove dups\n",
        "incidentdf['incident_PK'] = range(1, len(incidentdf) + 1) # generate surr key\n",
        "incidentdf = incidentdf[['incident_PK'] + [col for col in incidentdf.columns if col != 'incident_PK']]"
      ],
      "metadata": {
        "id": "JZ7bpWGbiciM"
      },
      "execution_count": null,
      "outputs": []
    },
    {
      "cell_type": "markdown",
      "source": [
        "# Prepare Occuence Table"
      ],
      "metadata": {
        "id": "P577HdaYmnf-"
      }
    },
    {
      "cell_type": "code",
      "source": [
        "# Occurrence Date Table - DONE\n",
        "occurencedf = pd.DataFrame()\n",
        "occurencedf = crimedf[['occurrencedate']].copy()\n",
        "occurencedf = occurencedf.drop_duplicates() # remove dups\n",
        "occurencedf['occurence_PK'] = range(1, len(occurencedf) + 1) # generate surr key\n",
        "occurencedf = occurencedf[['occurence_PK'] + [col for col in occurencedf.columns if col != 'occurence_PK']]\n",
        "\n",
        "# Generating new columns\n",
        "occurencedf['occurrencehour'] = pd.DatetimeIndex(occurencedf['occurrencedate']).hour\n",
        "occurencedf['occurrenceday'] = pd.DatetimeIndex(occurencedf['occurrencedate']).day\n",
        "occurencedf['occurrencemonth'] = pd.DatetimeIndex(occurencedf['occurrencedate']).month\n",
        "occurencedf['occurrenceyear'] = pd.DatetimeIndex(occurencedf['occurrencedate']).year"
      ],
      "metadata": {
        "id": "1O4gNDO5r1rt"
      },
      "execution_count": null,
      "outputs": []
    },
    {
      "cell_type": "markdown",
      "source": [
        "# Prepare Reported Table"
      ],
      "metadata": {
        "id": "Y_oTiPSdmpwH"
      }
    },
    {
      "cell_type": "code",
      "source": [
        "# Reported Date Table - DONE\n",
        "reporteddf = pd.DataFrame()\n",
        "reporteddf = crimedf[['reporteddate']].copy() # create location dimension\n",
        "reporteddf = reporteddf.drop_duplicates() # remove dups\n",
        "reporteddf['reported_PK'] = range(1, len(reporteddf) + 1) # generate surr key\n",
        "reporteddf = reporteddf[['reported_PK'] + [col for col in reporteddf.columns if col != 'reported_PK']]\n",
        "\n",
        "# Generating new columns\n",
        "reporteddf['reportedhour'] = pd.DatetimeIndex(reporteddf['reporteddate']).hour\n",
        "reporteddf['reportedday'] = pd.DatetimeIndex(reporteddf['reporteddate']).day\n",
        "reporteddf['reportedmonth'] = pd.DatetimeIndex(reporteddf['reporteddate']).month\n",
        "reporteddf['reportedyear'] = pd.DatetimeIndex(reporteddf['reporteddate']).year"
      ],
      "metadata": {
        "id": "940wE8dLtPMV"
      },
      "execution_count": null,
      "outputs": []
    },
    {
      "cell_type": "markdown",
      "source": [
        "# Stage COVID Fact Table from COVID dataframe"
      ],
      "metadata": {
        "id": "r1QBu75Qm44h"
      }
    },
    {
      "cell_type": "code",
      "source": [
        "# Monthly COVID Fact Table/Cases Table\n",
        "casesdf = pd.DataFrame()\n",
        "casesdf = covdf.groupby([pd.to_datetime(covdf['Episode Date']).dt.to_period('M'), 'Neighbourhood Name'])['_id'].count().reset_index()\n",
        "casesdf.columns = ['Date', 'Neighbourhood', 'Cases']\n",
        "\n",
        "# Date conversions\n",
        "casesdf['date'] = casesdf['Date'].dt.to_timestamp(freq='M')\n",
        "casesdf['year'] = casesdf['Date'].dt.year\n",
        "casesdf['month'] = casesdf['Date'].dt.month\n",
        "casesdf = casesdf.drop('Date', axis=1)\n",
        "\n",
        "# Manual changes to typos in neighbourhood column\n",
        "casesdf['Neighbourhood'] = casesdf['Neighbourhood'].replace('Cabbagetown-South St. James Town', 'Cabbagetown-South St.James Town')\n",
        "casesdf['Neighbourhood'] = casesdf['Neighbourhood'].replace('Briar Hill - Belgravia', 'Briar Hill-Belgravia')\n",
        "casesdf['Neighbourhood'] = casesdf['Neighbourhood'].replace('Danforth-East York', 'Danforth East York')\n",
        "casesdf['Neighbourhood'] = casesdf['Neighbourhood'].replace('North St. James Town', 'North St.James Town')"
      ],
      "metadata": {
        "id": "nLeIPoI-r6kI"
      },
      "execution_count": null,
      "outputs": []
    },
    {
      "cell_type": "markdown",
      "source": [
        "# Merge COVID Fact Table with Neighbourhood Table"
      ],
      "metadata": {
        "id": "DNdW7xXTm-ie"
      }
    },
    {
      "cell_type": "code",
      "source": [
        "# Generating Surr Key for COVID Month Table - DONE\n",
        "casesdf = casesdf.merge(neighbourhooddf, on=['Neighbourhood'])\n",
        "casesdf = casesdf.drop(['date', 'Neighbourhood', 'Shape__Area', 'Shape__Length'], axis=1)"
      ],
      "metadata": {
        "id": "xjzjaRvL2EeQ"
      },
      "execution_count": null,
      "outputs": []
    },
    {
      "cell_type": "markdown",
      "source": [
        "# Merge Crime Fact Table with dimensions"
      ],
      "metadata": {
        "id": "C1r3eWiBnEUp"
      }
    },
    {
      "cell_type": "code",
      "source": [
        "crimedf = crimedf.merge(premisedf, on=['location_type','premises_type'])\n",
        "crimedf = crimedf.drop(['location_type','premises_type'], axis=1)\n",
        "crimedf = crimedf.merge(incidentdf, on=['mci_category','offence','ucr_code', 'ucr_ext'])\n",
        "crimedf = crimedf.drop(['mci_category','offence','ucr_code', 'ucr_ext'], axis=1)\n",
        "crimedf = crimedf.merge(locationdf, on=['Division', 'Longitude', 'Latitude'])\n",
        "crimedf = crimedf.drop(['Division', 'Longitude', 'Latitude'], axis=1)\n",
        "crimedf = crimedf.merge(occurencedf, on=['occurrencedate'])\n",
        "crimedf = crimedf.drop(['occurrencedate','occurrencehour','occurrenceday','occurrencemonth','occurrenceyear'], axis=1)\n",
        "crimedf = crimedf.merge(reporteddf, on=['reporteddate'])\n",
        "crimedf = crimedf.drop(['reporteddate','reportedhour','reportedday','reportedmonth','reportedyear'], axis=1)\n",
        "crimedf = crimedf.merge(neighbourhooddf, on=['Neighbourhood'])\n",
        "crimedf = crimedf.drop(['Neighbourhood','Shape__Area','Shape__Length'], axis=1)"
      ],
      "metadata": {
        "id": "j4MyJe8LsZkO"
      },
      "execution_count": null,
      "outputs": []
    },
    {
      "cell_type": "markdown",
      "source": [
        "# Save Tables as CSV"
      ],
      "metadata": {
        "id": "Z1nLv1ESnIUB"
      }
    },
    {
      "cell_type": "code",
      "source": [
        "# Saving tables to csv\n",
        "crimedf.to_csv('CrimeFactTable.csv', index=False)\n",
        "casesdf.to_csv('CovidFactTable.csv', index=False)\n",
        "neighbourhooddf.to_csv('NeighbourhoodTable.csv', index=False)\n",
        "incidentdf.to_csv('IncidentTable.csv', index=False)\n",
        "premisedf.to_csv('PremiseTable.csv', index=False)\n",
        "locationdf.to_csv('LocationTable.csv', index=False)\n",
        "occurencedf.to_csv('OccurrenceTable.csv', index=False)\n",
        "reporteddf.to_csv('ReportedTable.csv', index=False)"
      ],
      "metadata": {
        "id": "kV5Edbojtcig"
      },
      "execution_count": null,
      "outputs": []
    }
  ]
}